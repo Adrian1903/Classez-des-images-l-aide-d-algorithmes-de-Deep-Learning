{
 "cells": [
  {
   "cell_type": "markdown",
   "metadata": {
    "papermill": {
     "duration": 0.011787,
     "end_time": "2020-10-13T07:46:58.438178",
     "exception": false,
     "start_time": "2020-10-13T07:46:58.426391",
     "status": "completed"
    },
    "tags": []
   },
   "source": [
    "---\n",
    "# 1. Paramètrage environnement et import des données"
   ]
  },
  {
   "cell_type": "code",
   "execution_count": 1,
   "metadata": {
    "execution": {
     "iopub.execute_input": "2020-10-13T07:46:58.468294Z",
     "iopub.status.busy": "2020-10-13T07:46:58.467540Z",
     "iopub.status.idle": "2020-10-13T07:47:05.551680Z",
     "shell.execute_reply": "2020-10-13T07:47:05.550395Z"
    },
    "papermill": {
     "duration": 7.102924,
     "end_time": "2020-10-13T07:47:05.551816",
     "exception": false,
     "start_time": "2020-10-13T07:46:58.448892",
     "status": "completed"
    },
    "tags": []
   },
   "outputs": [],
   "source": [
    "import numpy as np\n",
    "import pandas as pd\n",
    "import os\n",
    "\n",
    "import matplotlib.pyplot as plt\n",
    "plt.style.use(\"default\")\n",
    "\n",
    "from sklearn.model_selection import train_test_split\n",
    "\n",
    "from keras.preprocessing import image\n",
    "from keras.preprocessing.image import ImageDataGenerator\n",
    "from keras.models import Sequential\n",
    "from keras.layers import Dense, Conv2D, Flatten, MaxPooling2D, GlobalAveragePooling2D, Dropout\n",
    "from keras.callbacks import EarlyStopping\n",
    "\n",
    "from keras.applications import VGG16"
   ]
  },
  {
   "cell_type": "code",
   "execution_count": 2,
   "metadata": {
    "execution": {
     "iopub.execute_input": "2020-10-13T07:47:05.587712Z",
     "iopub.status.busy": "2020-10-13T07:47:05.585836Z",
     "iopub.status.idle": "2020-10-13T07:47:05.588656Z",
     "shell.execute_reply": "2020-10-13T07:47:05.589164Z"
    },
    "papermill": {
     "duration": 0.025127,
     "end_time": "2020-10-13T07:47:05.589286",
     "exception": false,
     "start_time": "2020-10-13T07:47:05.564159",
     "status": "completed"
    },
    "tags": []
   },
   "outputs": [],
   "source": [
    "def plot_result_fitting(history):\n",
    "    fig, ax = plt.subplots(nrows=1, ncols=2, figsize=(16, 6))\n",
    "\n",
    "    ax[0].plot(history.history['accuracy'], label='accuracy')\n",
    "    ax[0].plot(history.history['val_accuracy'], label = 'val_accuracy')\n",
    "    ax[0].set_title('Evolution de la précision')\n",
    "    ax[0].set_xlabel('Epoch')\n",
    "    ax[0].set_ylabel('Accuracy')\n",
    "    ax[0].legend()\n",
    "\n",
    "    ax[1].plot(history.history['loss'], label='loss')\n",
    "    ax[1].plot(history.history['val_loss'], label = 'val_loss')\n",
    "    ax[1].set_title('Evolution de la fonction de perte')\n",
    "    ax[1].set_xlabel('Epoch')\n",
    "    ax[1].set_ylabel('Loss')\n",
    "    ax[1].legend()\n",
    "\n",
    "    plt.savefig('./cnn_retention_map.png',\n",
    "                transparent=True)\n",
    "    \n",
    "    return None"
   ]
  },
  {
   "cell_type": "markdown",
   "metadata": {
    "papermill": {
     "duration": 0.017306,
     "end_time": "2020-10-13T07:47:05.617088",
     "exception": false,
     "start_time": "2020-10-13T07:47:05.599782",
     "status": "completed"
    },
    "tags": []
   },
   "source": [
    "---\n",
    "# 2. Préparation des données"
   ]
  },
  {
   "cell_type": "markdown",
   "metadata": {
    "papermill": {
     "duration": 0.014091,
     "end_time": "2020-10-13T07:47:05.646288",
     "exception": false,
     "start_time": "2020-10-13T07:47:05.632197",
     "status": "completed"
    },
    "tags": []
   },
   "source": [
    "Pour commencer, je récupère les données sous forme de dataframe afin de faciliter la découpe des fichier d'entraînement, de validation et de test."
   ]
  },
  {
   "cell_type": "code",
   "execution_count": 3,
   "metadata": {
    "execution": {
     "iopub.execute_input": "2020-10-13T07:47:05.685821Z",
     "iopub.status.busy": "2020-10-13T07:47:05.684800Z",
     "iopub.status.idle": "2020-10-13T07:47:06.625155Z",
     "shell.execute_reply": "2020-10-13T07:47:06.625654Z"
    },
    "papermill": {
     "duration": 0.965107,
     "end_time": "2020-10-13T07:47:06.625785",
     "exception": false,
     "start_time": "2020-10-13T07:47:05.660678",
     "status": "completed"
    },
    "tags": []
   },
   "outputs": [
    {
     "data": {
      "text/html": [
       "<div>\n",
       "<style scoped>\n",
       "    .dataframe tbody tr th:only-of-type {\n",
       "        vertical-align: middle;\n",
       "    }\n",
       "\n",
       "    .dataframe tbody tr th {\n",
       "        vertical-align: top;\n",
       "    }\n",
       "\n",
       "    .dataframe thead th {\n",
       "        text-align: right;\n",
       "    }\n",
       "</style>\n",
       "<table border=\"1\" class=\"dataframe\">\n",
       "  <thead>\n",
       "    <tr style=\"text-align: right;\">\n",
       "      <th></th>\n",
       "      <th>uri</th>\n",
       "      <th>breeds</th>\n",
       "    </tr>\n",
       "  </thead>\n",
       "  <tbody>\n",
       "    <tr>\n",
       "      <th>0</th>\n",
       "      <td>../input/stanford-dogs-dataset/images/Images/n...</td>\n",
       "      <td>Lakeland_terrier</td>\n",
       "    </tr>\n",
       "    <tr>\n",
       "      <th>1</th>\n",
       "      <td>../input/stanford-dogs-dataset/images/Images/n...</td>\n",
       "      <td>Lakeland_terrier</td>\n",
       "    </tr>\n",
       "    <tr>\n",
       "      <th>2</th>\n",
       "      <td>../input/stanford-dogs-dataset/images/Images/n...</td>\n",
       "      <td>Lakeland_terrier</td>\n",
       "    </tr>\n",
       "    <tr>\n",
       "      <th>3</th>\n",
       "      <td>../input/stanford-dogs-dataset/images/Images/n...</td>\n",
       "      <td>Lakeland_terrier</td>\n",
       "    </tr>\n",
       "    <tr>\n",
       "      <th>4</th>\n",
       "      <td>../input/stanford-dogs-dataset/images/Images/n...</td>\n",
       "      <td>Lakeland_terrier</td>\n",
       "    </tr>\n",
       "    <tr>\n",
       "      <th>...</th>\n",
       "      <td>...</td>\n",
       "      <td>...</td>\n",
       "    </tr>\n",
       "    <tr>\n",
       "      <th>20575</th>\n",
       "      <td>../input/stanford-dogs-dataset/images/Images/n...</td>\n",
       "      <td>miniature_poodle</td>\n",
       "    </tr>\n",
       "    <tr>\n",
       "      <th>20576</th>\n",
       "      <td>../input/stanford-dogs-dataset/images/Images/n...</td>\n",
       "      <td>miniature_poodle</td>\n",
       "    </tr>\n",
       "    <tr>\n",
       "      <th>20577</th>\n",
       "      <td>../input/stanford-dogs-dataset/images/Images/n...</td>\n",
       "      <td>miniature_poodle</td>\n",
       "    </tr>\n",
       "    <tr>\n",
       "      <th>20578</th>\n",
       "      <td>../input/stanford-dogs-dataset/images/Images/n...</td>\n",
       "      <td>miniature_poodle</td>\n",
       "    </tr>\n",
       "    <tr>\n",
       "      <th>20579</th>\n",
       "      <td>../input/stanford-dogs-dataset/images/Images/n...</td>\n",
       "      <td>miniature_poodle</td>\n",
       "    </tr>\n",
       "  </tbody>\n",
       "</table>\n",
       "<p>20580 rows × 2 columns</p>\n",
       "</div>"
      ],
      "text/plain": [
       "                                                     uri            breeds\n",
       "0      ../input/stanford-dogs-dataset/images/Images/n...  Lakeland_terrier\n",
       "1      ../input/stanford-dogs-dataset/images/Images/n...  Lakeland_terrier\n",
       "2      ../input/stanford-dogs-dataset/images/Images/n...  Lakeland_terrier\n",
       "3      ../input/stanford-dogs-dataset/images/Images/n...  Lakeland_terrier\n",
       "4      ../input/stanford-dogs-dataset/images/Images/n...  Lakeland_terrier\n",
       "...                                                  ...               ...\n",
       "20575  ../input/stanford-dogs-dataset/images/Images/n...  miniature_poodle\n",
       "20576  ../input/stanford-dogs-dataset/images/Images/n...  miniature_poodle\n",
       "20577  ../input/stanford-dogs-dataset/images/Images/n...  miniature_poodle\n",
       "20578  ../input/stanford-dogs-dataset/images/Images/n...  miniature_poodle\n",
       "20579  ../input/stanford-dogs-dataset/images/Images/n...  miniature_poodle\n",
       "\n",
       "[20580 rows x 2 columns]"
      ]
     },
     "execution_count": 3,
     "metadata": {},
     "output_type": "execute_result"
    }
   ],
   "source": [
    "dogs_lst = []\n",
    "for dirname, _, filenames in os.walk('../input/stanford-dogs-dataset/images'):\n",
    "    for filename in filenames:\n",
    "        dogs_lst.append(os.path.join(dirname, filename))\n",
    "\n",
    "# Je stocke dans un dataframe\n",
    "dogs_raw = pd.DataFrame(dogs_lst, columns=['uri'])\n",
    "\n",
    "# J'extrais la race\n",
    "dogs_raw['breeds'] = dogs_raw.uri.str.split('/').str.get(5).str.slice(10)\n",
    "\n",
    "dogs = dogs_raw\n",
    "\n",
    "dogs"
   ]
  },
  {
   "cell_type": "code",
   "execution_count": 4,
   "metadata": {
    "execution": {
     "iopub.execute_input": "2020-10-13T07:47:06.657661Z",
     "iopub.status.busy": "2020-10-13T07:47:06.656671Z",
     "iopub.status.idle": "2020-10-13T07:47:06.664425Z",
     "shell.execute_reply": "2020-10-13T07:47:06.664861Z"
    },
    "papermill": {
     "duration": 0.027114,
     "end_time": "2020-10-13T07:47:06.665009",
     "exception": false,
     "start_time": "2020-10-13T07:47:06.637895",
     "status": "completed"
    },
    "tags": []
   },
   "outputs": [],
   "source": [
    "# Séparation des données d'entrainements et de tests\n",
    "train, test = train_test_split(dogs, test_size=0.2, random_state=42)\n",
    "\n",
    "# Séparation des données d'entrainements et de validation\n",
    "train, val = train_test_split(train, test_size=0.2, random_state=42)"
   ]
  },
  {
   "cell_type": "code",
   "execution_count": 5,
   "metadata": {
    "execution": {
     "iopub.execute_input": "2020-10-13T07:47:06.693242Z",
     "iopub.status.busy": "2020-10-13T07:47:06.692596Z",
     "iopub.status.idle": "2020-10-13T07:47:06.697060Z",
     "shell.execute_reply": "2020-10-13T07:47:06.696536Z"
    },
    "papermill": {
     "duration": 0.019945,
     "end_time": "2020-10-13T07:47:06.697157",
     "exception": false,
     "start_time": "2020-10-13T07:47:06.677212",
     "status": "completed"
    },
    "tags": []
   },
   "outputs": [],
   "source": [
    "### Paramétrage\n",
    "target_size = (256, 256) # default\n",
    "#target_size = (150, 150)\n",
    "batch_size = 32 # default\n",
    "# batch_size = 16"
   ]
  },
  {
   "cell_type": "markdown",
   "metadata": {
    "papermill": {
     "duration": 0.012854,
     "end_time": "2020-10-13T07:47:06.721876",
     "exception": false,
     "start_time": "2020-10-13T07:47:06.709022",
     "status": "completed"
    },
    "tags": []
   },
   "source": [
    "Data Augmentation"
   ]
  },
  {
   "cell_type": "code",
   "execution_count": 6,
   "metadata": {
    "execution": {
     "iopub.execute_input": "2020-10-13T07:47:06.752720Z",
     "iopub.status.busy": "2020-10-13T07:47:06.750860Z",
     "iopub.status.idle": "2020-10-13T07:47:06.753408Z",
     "shell.execute_reply": "2020-10-13T07:47:06.753892Z"
    },
    "papermill": {
     "duration": 0.020185,
     "end_time": "2020-10-13T07:47:06.754033",
     "exception": false,
     "start_time": "2020-10-13T07:47:06.733848",
     "status": "completed"
    },
    "tags": []
   },
   "outputs": [],
   "source": [
    "train_datagen = ImageDataGenerator(\n",
    "                    rescale=1./255)"
   ]
  },
  {
   "cell_type": "code",
   "execution_count": 7,
   "metadata": {
    "execution": {
     "iopub.execute_input": "2020-10-13T07:47:06.828869Z",
     "iopub.status.busy": "2020-10-13T07:47:06.826582Z",
     "iopub.status.idle": "2020-10-13T07:47:07.067526Z",
     "shell.execute_reply": "2020-10-13T07:47:07.068057Z"
    },
    "papermill": {
     "duration": 0.302465,
     "end_time": "2020-10-13T07:47:07.068193",
     "exception": false,
     "start_time": "2020-10-13T07:47:06.765728",
     "status": "completed"
    },
    "tags": []
   },
   "outputs": [
    {
     "name": "stdout",
     "output_type": "stream",
     "text": [
      "Found 13171 validated image filenames belonging to 120 classes.\n",
      "Found 3293 validated image filenames belonging to 120 classes.\n",
      "Found 4116 validated image filenames belonging to 120 classes.\n"
     ]
    }
   ],
   "source": [
    "train_gen = train_datagen.flow_from_dataframe(\n",
    "                  train,\n",
    "                  x_col='uri',\n",
    "                  y_col='breeds',\n",
    "                  target_size=target_size,\n",
    "                  batch_size=batch_size,\n",
    "                  seed=42\n",
    "                  )\n",
    "\n",
    "# Génération des données de validation et de test\n",
    "val_test_datagen = ImageDataGenerator(rescale=1./255)\n",
    "\n",
    "val_gen = val_test_datagen.flow_from_dataframe(\n",
    "                  val,\n",
    "                  x_col='uri',\n",
    "                  y_col='breeds',\n",
    "                  target_size=target_size,\n",
    "                  batch_size=batch_size,\n",
    "                  seed=42\n",
    "                  )\n",
    "\n",
    "test_gen = val_test_datagen.flow_from_dataframe(\n",
    "                  test,\n",
    "                  x_col='uri',\n",
    "                  y_col='breeds',\n",
    "                  target_size=target_size,\n",
    "                  batch_size=batch_size,\n",
    "                  seed=42\n",
    "                  )"
   ]
  },
  {
   "cell_type": "code",
   "execution_count": 8,
   "metadata": {
    "execution": {
     "iopub.execute_input": "2020-10-13T07:47:07.099023Z",
     "iopub.status.busy": "2020-10-13T07:47:07.098390Z",
     "iopub.status.idle": "2020-10-13T07:47:11.703519Z",
     "shell.execute_reply": "2020-10-13T07:47:11.702072Z"
    },
    "papermill": {
     "duration": 4.623038,
     "end_time": "2020-10-13T07:47:11.703662",
     "exception": false,
     "start_time": "2020-10-13T07:47:07.080624",
     "status": "completed"
    },
    "tags": []
   },
   "outputs": [
    {
     "name": "stdout",
     "output_type": "stream",
     "text": [
      "Downloading data from https://storage.googleapis.com/tensorflow/keras-applications/vgg16/vgg16_weights_tf_dim_ordering_tf_kernels_notop.h5\n",
      "58892288/58889256 [==============================] - 0s 0us/step\n",
      "Model: \"vgg16\"\n",
      "_________________________________________________________________\n",
      "Layer (type)                 Output Shape              Param #   \n",
      "=================================================================\n",
      "input_1 (InputLayer)         [(None, 256, 256, 3)]     0         \n",
      "_________________________________________________________________\n",
      "block1_conv1 (Conv2D)        (None, 256, 256, 64)      1792      \n",
      "_________________________________________________________________\n",
      "block1_conv2 (Conv2D)        (None, 256, 256, 64)      36928     \n",
      "_________________________________________________________________\n",
      "block1_pool (MaxPooling2D)   (None, 128, 128, 64)      0         \n",
      "_________________________________________________________________\n",
      "block2_conv1 (Conv2D)        (None, 128, 128, 128)     73856     \n",
      "_________________________________________________________________\n",
      "block2_conv2 (Conv2D)        (None, 128, 128, 128)     147584    \n",
      "_________________________________________________________________\n",
      "block2_pool (MaxPooling2D)   (None, 64, 64, 128)       0         \n",
      "_________________________________________________________________\n",
      "block3_conv1 (Conv2D)        (None, 64, 64, 256)       295168    \n",
      "_________________________________________________________________\n",
      "block3_conv2 (Conv2D)        (None, 64, 64, 256)       590080    \n",
      "_________________________________________________________________\n",
      "block3_conv3 (Conv2D)        (None, 64, 64, 256)       590080    \n",
      "_________________________________________________________________\n",
      "block3_pool (MaxPooling2D)   (None, 32, 32, 256)       0         \n",
      "_________________________________________________________________\n",
      "block4_conv1 (Conv2D)        (None, 32, 32, 512)       1180160   \n",
      "_________________________________________________________________\n",
      "block4_conv2 (Conv2D)        (None, 32, 32, 512)       2359808   \n",
      "_________________________________________________________________\n",
      "block4_conv3 (Conv2D)        (None, 32, 32, 512)       2359808   \n",
      "_________________________________________________________________\n",
      "block4_pool (MaxPooling2D)   (None, 16, 16, 512)       0         \n",
      "_________________________________________________________________\n",
      "block5_conv1 (Conv2D)        (None, 16, 16, 512)       2359808   \n",
      "_________________________________________________________________\n",
      "block5_conv2 (Conv2D)        (None, 16, 16, 512)       2359808   \n",
      "_________________________________________________________________\n",
      "block5_conv3 (Conv2D)        (None, 16, 16, 512)       2359808   \n",
      "_________________________________________________________________\n",
      "block5_pool (MaxPooling2D)   (None, 8, 8, 512)         0         \n",
      "=================================================================\n",
      "Total params: 14,714,688\n",
      "Trainable params: 14,714,688\n",
      "Non-trainable params: 0\n",
      "_________________________________________________________________\n"
     ]
    }
   ],
   "source": [
    "conv_base = VGG16(weights='imagenet', include_top=False, input_shape=(256, 256, 3))\n",
    "conv_base.summary()"
   ]
  },
  {
   "cell_type": "code",
   "execution_count": 9,
   "metadata": {
    "execution": {
     "iopub.execute_input": "2020-10-13T07:47:11.752464Z",
     "iopub.status.busy": "2020-10-13T07:47:11.748705Z",
     "iopub.status.idle": "2020-10-13T07:47:11.836839Z",
     "shell.execute_reply": "2020-10-13T07:47:11.835882Z"
    },
    "papermill": {
     "duration": 0.113845,
     "end_time": "2020-10-13T07:47:11.836964",
     "exception": false,
     "start_time": "2020-10-13T07:47:11.723119",
     "status": "completed"
    },
    "tags": []
   },
   "outputs": [
    {
     "name": "stdout",
     "output_type": "stream",
     "text": [
      "Model: \"sequential\"\n",
      "_________________________________________________________________\n",
      "Layer (type)                 Output Shape              Param #   \n",
      "=================================================================\n",
      "vgg16 (Model)                (None, 8, 8, 512)         14714688  \n",
      "_________________________________________________________________\n",
      "global_average_pooling2d (Gl (None, 512)               0         \n",
      "_________________________________________________________________\n",
      "dense (Dense)                (None, 120)               61560     \n",
      "=================================================================\n",
      "Total params: 14,776,248\n",
      "Trainable params: 14,776,248\n",
      "Non-trainable params: 0\n",
      "_________________________________________________________________\n"
     ]
    }
   ],
   "source": [
    "model = Sequential()\n",
    "\n",
    "### Couches de convolutions\n",
    "model.add(conv_base)\n",
    "### Couches de Classification\n",
    "# Applatissement (transform to vector 1D)\n",
    "model.add(GlobalAveragePooling2D())\n",
    "model.add(Dense(len(train_gen.class_indices), activation='softmax'))\n",
    "\n",
    "# Résumé du modèle\n",
    "model.summary()"
   ]
  },
  {
   "cell_type": "code",
   "execution_count": 10,
   "metadata": {
    "execution": {
     "iopub.execute_input": "2020-10-13T07:47:11.876088Z",
     "iopub.status.busy": "2020-10-13T07:47:11.875481Z",
     "iopub.status.idle": "2020-10-13T07:47:11.881268Z",
     "shell.execute_reply": "2020-10-13T07:47:11.880741Z"
    },
    "papermill": {
     "duration": 0.027945,
     "end_time": "2020-10-13T07:47:11.881364",
     "exception": false,
     "start_time": "2020-10-13T07:47:11.853419",
     "status": "completed"
    },
    "tags": []
   },
   "outputs": [
    {
     "name": "stdout",
     "output_type": "stream",
     "text": [
      "This is the number of trainable weights before freezing the conv base: 28\n",
      "This is the number of trainable weights after freezing the conv base: 2\n"
     ]
    }
   ],
   "source": [
    "print('This is the number of trainable weights before freezing the conv base:', len(model.trainable_weights))\n",
    "conv_base.trainable = False\n",
    "print('This is the number of trainable weights after freezing the conv base:', len(model.trainable_weights))"
   ]
  },
  {
   "cell_type": "code",
   "execution_count": 11,
   "metadata": {
    "execution": {
     "iopub.execute_input": "2020-10-13T07:47:11.927794Z",
     "iopub.status.busy": "2020-10-13T07:47:11.926616Z",
     "iopub.status.idle": "2020-10-13T10:15:43.634998Z",
     "shell.execute_reply": "2020-10-13T10:15:43.635804Z"
    },
    "papermill": {
     "duration": 8911.737922,
     "end_time": "2020-10-13T10:15:43.636027",
     "exception": false,
     "start_time": "2020-10-13T07:47:11.898105",
     "status": "completed"
    },
    "tags": []
   },
   "outputs": [
    {
     "name": "stdout",
     "output_type": "stream",
     "text": [
      "Epoch 1/500\n",
      "412/412 [==============================] - 105s 255ms/step - loss: 4.6579 - accuracy: 0.0336 - val_loss: 4.5078 - val_accuracy: 0.0498\n",
      "Epoch 2/500\n",
      "412/412 [==============================] - 82s 198ms/step - loss: 4.3381 - accuracy: 0.0958 - val_loss: 4.2827 - val_accuracy: 0.1105\n",
      "Epoch 3/500\n",
      "412/412 [==============================] - 81s 198ms/step - loss: 4.1153 - accuracy: 0.1342 - val_loss: 4.1254 - val_accuracy: 0.1312\n",
      "Epoch 4/500\n",
      "412/412 [==============================] - 82s 200ms/step - loss: 3.9382 - accuracy: 0.1704 - val_loss: 3.9897 - val_accuracy: 0.1688\n",
      "Epoch 5/500\n",
      "412/412 [==============================] - 82s 199ms/step - loss: 3.7918 - accuracy: 0.1938 - val_loss: 3.8990 - val_accuracy: 0.1597\n",
      "Epoch 6/500\n",
      "412/412 [==============================] - 82s 199ms/step - loss: 3.6704 - accuracy: 0.2207 - val_loss: 3.8023 - val_accuracy: 0.1825\n",
      "Epoch 7/500\n",
      "412/412 [==============================] - 83s 200ms/step - loss: 3.5584 - accuracy: 0.2395 - val_loss: 3.7207 - val_accuracy: 0.1962\n",
      "Epoch 8/500\n",
      "412/412 [==============================] - 82s 199ms/step - loss: 3.4615 - accuracy: 0.2565 - val_loss: 3.6535 - val_accuracy: 0.2062\n",
      "Epoch 9/500\n",
      "412/412 [==============================] - 82s 199ms/step - loss: 3.3744 - accuracy: 0.2726 - val_loss: 3.6044 - val_accuracy: 0.2138\n",
      "Epoch 10/500\n",
      "412/412 [==============================] - 83s 200ms/step - loss: 3.2974 - accuracy: 0.2879 - val_loss: 3.5333 - val_accuracy: 0.2202\n",
      "Epoch 11/500\n",
      "412/412 [==============================] - 82s 200ms/step - loss: 3.2252 - accuracy: 0.3007 - val_loss: 3.4919 - val_accuracy: 0.2259\n",
      "Epoch 12/500\n",
      "412/412 [==============================] - 84s 203ms/step - loss: 3.1567 - accuracy: 0.3105 - val_loss: 3.4373 - val_accuracy: 0.2293\n",
      "Epoch 13/500\n",
      "412/412 [==============================] - 82s 200ms/step - loss: 3.0962 - accuracy: 0.3256 - val_loss: 3.4024 - val_accuracy: 0.2369\n",
      "Epoch 14/500\n",
      "412/412 [==============================] - 83s 202ms/step - loss: 3.0397 - accuracy: 0.3326 - val_loss: 3.3469 - val_accuracy: 0.2426\n",
      "Epoch 15/500\n",
      "412/412 [==============================] - 84s 203ms/step - loss: 2.9903 - accuracy: 0.3449 - val_loss: 3.3177 - val_accuracy: 0.2454\n",
      "Epoch 16/500\n",
      "412/412 [==============================] - 82s 200ms/step - loss: 2.9400 - accuracy: 0.3502 - val_loss: 3.2938 - val_accuracy: 0.2454\n",
      "Epoch 17/500\n",
      "412/412 [==============================] - 84s 203ms/step - loss: 2.8915 - accuracy: 0.3590 - val_loss: 3.2707 - val_accuracy: 0.2505\n",
      "Epoch 18/500\n",
      "412/412 [==============================] - 83s 202ms/step - loss: 2.8482 - accuracy: 0.3677 - val_loss: 3.2339 - val_accuracy: 0.2621\n",
      "Epoch 19/500\n",
      "412/412 [==============================] - 84s 203ms/step - loss: 2.8084 - accuracy: 0.3775 - val_loss: 3.2101 - val_accuracy: 0.2618\n",
      "Epoch 20/500\n",
      "412/412 [==============================] - 85s 206ms/step - loss: 2.7665 - accuracy: 0.3843 - val_loss: 3.1841 - val_accuracy: 0.2633\n",
      "Epoch 21/500\n",
      "412/412 [==============================] - 84s 203ms/step - loss: 2.7301 - accuracy: 0.3924 - val_loss: 3.1630 - val_accuracy: 0.2633\n",
      "Epoch 22/500\n",
      "412/412 [==============================] - 84s 204ms/step - loss: 2.6938 - accuracy: 0.4004 - val_loss: 3.1400 - val_accuracy: 0.2633\n",
      "Epoch 23/500\n",
      "412/412 [==============================] - 84s 205ms/step - loss: 2.6613 - accuracy: 0.4054 - val_loss: 3.1165 - val_accuracy: 0.2730\n",
      "Epoch 24/500\n",
      "412/412 [==============================] - 84s 204ms/step - loss: 2.6293 - accuracy: 0.4125 - val_loss: 3.0922 - val_accuracy: 0.2748\n",
      "Epoch 25/500\n",
      "412/412 [==============================] - 85s 206ms/step - loss: 2.5971 - accuracy: 0.4237 - val_loss: 3.0834 - val_accuracy: 0.2782\n",
      "Epoch 26/500\n",
      "412/412 [==============================] - 85s 206ms/step - loss: 2.5676 - accuracy: 0.4257 - val_loss: 3.0602 - val_accuracy: 0.2867\n",
      "Epoch 27/500\n",
      "412/412 [==============================] - 85s 207ms/step - loss: 2.5392 - accuracy: 0.4299 - val_loss: 3.0441 - val_accuracy: 0.2873\n",
      "Epoch 28/500\n",
      "412/412 [==============================] - 84s 204ms/step - loss: 2.5118 - accuracy: 0.4404 - val_loss: 3.0312 - val_accuracy: 0.2885\n",
      "Epoch 29/500\n",
      "412/412 [==============================] - 85s 207ms/step - loss: 2.4831 - accuracy: 0.4467 - val_loss: 3.0183 - val_accuracy: 0.2885\n",
      "Epoch 30/500\n",
      "412/412 [==============================] - 85s 207ms/step - loss: 2.4588 - accuracy: 0.4477 - val_loss: 3.0027 - val_accuracy: 0.2900\n",
      "Epoch 31/500\n",
      "412/412 [==============================] - 85s 207ms/step - loss: 2.4352 - accuracy: 0.4524 - val_loss: 2.9916 - val_accuracy: 0.2943\n",
      "Epoch 32/500\n",
      "412/412 [==============================] - 84s 203ms/step - loss: 2.4113 - accuracy: 0.4555 - val_loss: 2.9942 - val_accuracy: 0.2852\n",
      "Epoch 33/500\n",
      "412/412 [==============================] - 83s 202ms/step - loss: 2.3899 - accuracy: 0.4633 - val_loss: 2.9643 - val_accuracy: 0.2961\n",
      "Epoch 34/500\n",
      "412/412 [==============================] - 84s 204ms/step - loss: 2.3653 - accuracy: 0.4697 - val_loss: 2.9495 - val_accuracy: 0.2985\n",
      "Epoch 35/500\n",
      "412/412 [==============================] - 84s 203ms/step - loss: 2.3422 - accuracy: 0.4689 - val_loss: 2.9436 - val_accuracy: 0.2979\n",
      "Epoch 36/500\n",
      "412/412 [==============================] - 83s 202ms/step - loss: 2.3219 - accuracy: 0.4777 - val_loss: 2.9279 - val_accuracy: 0.2973\n",
      "Epoch 37/500\n",
      "412/412 [==============================] - 85s 205ms/step - loss: 2.3027 - accuracy: 0.4845 - val_loss: 2.9240 - val_accuracy: 0.3040\n",
      "Epoch 38/500\n",
      "412/412 [==============================] - 83s 201ms/step - loss: 2.2803 - accuracy: 0.4862 - val_loss: 2.9130 - val_accuracy: 0.2988\n",
      "Epoch 39/500\n",
      "412/412 [==============================] - 84s 205ms/step - loss: 2.2632 - accuracy: 0.4893 - val_loss: 2.9176 - val_accuracy: 0.3064\n",
      "Epoch 40/500\n",
      "412/412 [==============================] - 83s 202ms/step - loss: 2.2454 - accuracy: 0.4924 - val_loss: 2.8832 - val_accuracy: 0.3028\n",
      "Epoch 41/500\n",
      "412/412 [==============================] - 84s 203ms/step - loss: 2.2248 - accuracy: 0.4972 - val_loss: 2.8943 - val_accuracy: 0.3055\n",
      "Epoch 42/500\n",
      "412/412 [==============================] - 85s 206ms/step - loss: 2.2092 - accuracy: 0.5007 - val_loss: 2.8809 - val_accuracy: 0.3040\n",
      "Epoch 43/500\n",
      "412/412 [==============================] - 84s 203ms/step - loss: 2.1915 - accuracy: 0.5023 - val_loss: 2.8686 - val_accuracy: 0.3067\n",
      "Epoch 44/500\n",
      "412/412 [==============================] - 84s 204ms/step - loss: 2.1752 - accuracy: 0.5088 - val_loss: 2.8708 - val_accuracy: 0.3088\n",
      "Epoch 45/500\n",
      "412/412 [==============================] - 85s 205ms/step - loss: 2.1594 - accuracy: 0.5123 - val_loss: 2.8570 - val_accuracy: 0.3110\n",
      "Epoch 46/500\n",
      "412/412 [==============================] - 84s 204ms/step - loss: 2.1438 - accuracy: 0.5165 - val_loss: 2.8477 - val_accuracy: 0.3149\n",
      "Epoch 47/500\n",
      "412/412 [==============================] - 85s 206ms/step - loss: 2.1253 - accuracy: 0.5167 - val_loss: 2.8471 - val_accuracy: 0.3082\n",
      "Epoch 48/500\n",
      "412/412 [==============================] - 84s 205ms/step - loss: 2.1111 - accuracy: 0.5233 - val_loss: 2.8354 - val_accuracy: 0.3079\n",
      "Epoch 49/500\n",
      "412/412 [==============================] - 84s 203ms/step - loss: 2.0947 - accuracy: 0.5263 - val_loss: 2.8446 - val_accuracy: 0.3140\n",
      "Epoch 50/500\n",
      "412/412 [==============================] - 84s 203ms/step - loss: 2.0817 - accuracy: 0.5309 - val_loss: 2.8226 - val_accuracy: 0.3152\n",
      "Epoch 51/500\n",
      "412/412 [==============================] - 84s 203ms/step - loss: 2.0639 - accuracy: 0.5342 - val_loss: 2.8182 - val_accuracy: 0.3179\n",
      "Epoch 52/500\n",
      "412/412 [==============================] - 84s 205ms/step - loss: 2.0530 - accuracy: 0.5368 - val_loss: 2.8060 - val_accuracy: 0.3189\n",
      "Epoch 53/500\n",
      "412/412 [==============================] - 84s 204ms/step - loss: 2.0384 - accuracy: 0.5369 - val_loss: 2.8059 - val_accuracy: 0.3207\n",
      "Epoch 54/500\n",
      "412/412 [==============================] - 85s 205ms/step - loss: 2.0229 - accuracy: 0.5431 - val_loss: 2.8104 - val_accuracy: 0.3113\n",
      "Epoch 55/500\n",
      "412/412 [==============================] - 83s 202ms/step - loss: 2.0123 - accuracy: 0.5422 - val_loss: 2.8000 - val_accuracy: 0.3155\n",
      "Epoch 56/500\n",
      "412/412 [==============================] - 84s 204ms/step - loss: 2.0001 - accuracy: 0.5464 - val_loss: 2.7848 - val_accuracy: 0.3198\n",
      "Epoch 57/500\n",
      "412/412 [==============================] - 84s 205ms/step - loss: 1.9862 - accuracy: 0.5501 - val_loss: 2.7861 - val_accuracy: 0.3237\n",
      "Epoch 58/500\n",
      "412/412 [==============================] - 84s 204ms/step - loss: 1.9721 - accuracy: 0.5591 - val_loss: 2.7751 - val_accuracy: 0.3176\n",
      "Epoch 59/500\n",
      "412/412 [==============================] - 85s 207ms/step - loss: 1.9617 - accuracy: 0.5571 - val_loss: 2.7835 - val_accuracy: 0.3204\n",
      "Epoch 60/500\n",
      "412/412 [==============================] - 84s 203ms/step - loss: 1.9501 - accuracy: 0.5568 - val_loss: 2.7735 - val_accuracy: 0.3210\n",
      "Epoch 61/500\n",
      "412/412 [==============================] - 85s 206ms/step - loss: 1.9374 - accuracy: 0.5615 - val_loss: 2.7797 - val_accuracy: 0.3231\n",
      "Epoch 62/500\n",
      "412/412 [==============================] - 84s 204ms/step - loss: 1.9253 - accuracy: 0.5686 - val_loss: 2.7736 - val_accuracy: 0.3283\n",
      "Epoch 63/500\n",
      "412/412 [==============================] - 84s 203ms/step - loss: 1.9141 - accuracy: 0.5682 - val_loss: 2.7779 - val_accuracy: 0.3222\n",
      "Epoch 64/500\n",
      "412/412 [==============================] - 85s 206ms/step - loss: 1.9035 - accuracy: 0.5682 - val_loss: 2.7681 - val_accuracy: 0.3228\n",
      "Epoch 65/500\n",
      "412/412 [==============================] - 84s 205ms/step - loss: 1.8916 - accuracy: 0.5710 - val_loss: 2.7663 - val_accuracy: 0.3231\n",
      "Epoch 66/500\n",
      "412/412 [==============================] - 80s 195ms/step - loss: 1.8816 - accuracy: 0.5760 - val_loss: 2.7656 - val_accuracy: 0.3207\n",
      "Epoch 67/500\n",
      "412/412 [==============================] - 85s 205ms/step - loss: 1.8692 - accuracy: 0.5813 - val_loss: 2.7590 - val_accuracy: 0.3268\n",
      "Epoch 68/500\n",
      "412/412 [==============================] - 80s 193ms/step - loss: 1.8595 - accuracy: 0.5785 - val_loss: 2.7474 - val_accuracy: 0.3334\n",
      "Epoch 69/500\n",
      "412/412 [==============================] - 85s 206ms/step - loss: 1.8492 - accuracy: 0.5829 - val_loss: 2.7535 - val_accuracy: 0.3255\n",
      "Epoch 70/500\n",
      "412/412 [==============================] - 85s 206ms/step - loss: 1.8379 - accuracy: 0.5851 - val_loss: 2.7484 - val_accuracy: 0.3289\n",
      "Epoch 71/500\n",
      "412/412 [==============================] - 80s 194ms/step - loss: 1.8280 - accuracy: 0.5896 - val_loss: 2.7361 - val_accuracy: 0.3331\n",
      "Epoch 72/500\n",
      "412/412 [==============================] - 85s 206ms/step - loss: 1.8178 - accuracy: 0.5917 - val_loss: 2.7369 - val_accuracy: 0.3295\n",
      "Epoch 73/500\n",
      "412/412 [==============================] - 79s 193ms/step - loss: 1.8090 - accuracy: 0.5911 - val_loss: 2.7336 - val_accuracy: 0.3310\n",
      "Epoch 74/500\n",
      "412/412 [==============================] - 86s 208ms/step - loss: 1.7984 - accuracy: 0.5919 - val_loss: 2.7406 - val_accuracy: 0.3258\n",
      "Epoch 75/500\n",
      "412/412 [==============================] - 85s 206ms/step - loss: 1.7901 - accuracy: 0.5961 - val_loss: 2.7316 - val_accuracy: 0.3316\n",
      "Epoch 76/500\n",
      "412/412 [==============================] - 80s 194ms/step - loss: 1.7788 - accuracy: 0.6009 - val_loss: 2.7362 - val_accuracy: 0.3331\n",
      "Epoch 77/500\n",
      "412/412 [==============================] - 85s 207ms/step - loss: 1.7716 - accuracy: 0.5981 - val_loss: 2.7257 - val_accuracy: 0.3319\n",
      "Epoch 78/500\n",
      "412/412 [==============================] - 80s 193ms/step - loss: 1.7615 - accuracy: 0.6026 - val_loss: 2.7356 - val_accuracy: 0.3310\n",
      "Epoch 79/500\n",
      "412/412 [==============================] - 85s 206ms/step - loss: 1.7530 - accuracy: 0.6064 - val_loss: 2.7229 - val_accuracy: 0.3362\n",
      "Epoch 80/500\n",
      "412/412 [==============================] - 86s 208ms/step - loss: 1.7432 - accuracy: 0.6081 - val_loss: 2.7306 - val_accuracy: 0.3301\n",
      "Epoch 81/500\n",
      "412/412 [==============================] - 79s 193ms/step - loss: 1.7346 - accuracy: 0.6103 - val_loss: 2.7208 - val_accuracy: 0.3295\n",
      "Epoch 82/500\n",
      "412/412 [==============================] - 86s 209ms/step - loss: 1.7278 - accuracy: 0.6119 - val_loss: 2.7206 - val_accuracy: 0.3325\n",
      "Epoch 83/500\n",
      "412/412 [==============================] - 79s 192ms/step - loss: 1.7189 - accuracy: 0.6088 - val_loss: 2.7141 - val_accuracy: 0.3350\n",
      "Epoch 84/500\n",
      "412/412 [==============================] - 85s 207ms/step - loss: 1.7100 - accuracy: 0.6135 - val_loss: 2.7174 - val_accuracy: 0.3331\n",
      "Epoch 85/500\n",
      "412/412 [==============================] - 86s 208ms/step - loss: 1.7012 - accuracy: 0.6183 - val_loss: 2.7121 - val_accuracy: 0.3362\n",
      "Epoch 86/500\n",
      "412/412 [==============================] - 80s 193ms/step - loss: 1.6928 - accuracy: 0.6215 - val_loss: 2.7182 - val_accuracy: 0.3401\n",
      "Epoch 87/500\n",
      "412/412 [==============================] - 86s 209ms/step - loss: 1.6867 - accuracy: 0.6215 - val_loss: 2.7094 - val_accuracy: 0.3386\n",
      "Epoch 88/500\n",
      "412/412 [==============================] - 79s 192ms/step - loss: 1.6791 - accuracy: 0.6226 - val_loss: 2.7023 - val_accuracy: 0.3398\n",
      "Epoch 89/500\n",
      "412/412 [==============================] - 86s 208ms/step - loss: 1.6677 - accuracy: 0.6240 - val_loss: 2.7131 - val_accuracy: 0.3392\n",
      "Epoch 90/500\n",
      "412/412 [==============================] - 87s 210ms/step - loss: 1.6633 - accuracy: 0.6266 - val_loss: 2.7136 - val_accuracy: 0.3277\n",
      "Epoch 91/500\n",
      "412/412 [==============================] - 79s 192ms/step - loss: 1.6549 - accuracy: 0.6274 - val_loss: 2.7072 - val_accuracy: 0.3395\n",
      "Epoch 92/500\n",
      "412/412 [==============================] - 86s 209ms/step - loss: 1.6464 - accuracy: 0.6265 - val_loss: 2.7165 - val_accuracy: 0.3325\n",
      "Epoch 93/500\n",
      "412/412 [==============================] - 80s 193ms/step - loss: 1.6396 - accuracy: 0.6321 - val_loss: 2.7113 - val_accuracy: 0.3365\n",
      "Epoch 94/500\n",
      "412/412 [==============================] - 86s 208ms/step - loss: 1.6342 - accuracy: 0.6334 - val_loss: 2.7107 - val_accuracy: 0.3389\n",
      "Epoch 95/500\n",
      "412/412 [==============================] - 87s 211ms/step - loss: 1.6238 - accuracy: 0.6373 - val_loss: 2.7034 - val_accuracy: 0.3386\n",
      "Epoch 96/500\n",
      "412/412 [==============================] - 79s 192ms/step - loss: 1.6183 - accuracy: 0.6360 - val_loss: 2.6970 - val_accuracy: 0.3359\n",
      "Epoch 97/500\n",
      "412/412 [==============================] - 86s 210ms/step - loss: 1.6086 - accuracy: 0.6404 - val_loss: 2.7090 - val_accuracy: 0.3353\n",
      "Epoch 98/500\n",
      "412/412 [==============================] - 79s 192ms/step - loss: 1.6027 - accuracy: 0.6419 - val_loss: 2.7034 - val_accuracy: 0.3404\n",
      "Epoch 99/500\n",
      "412/412 [==============================] - 86s 209ms/step - loss: 1.5966 - accuracy: 0.6418 - val_loss: 2.7010 - val_accuracy: 0.3359\n",
      "Epoch 100/500\n",
      "412/412 [==============================] - 80s 195ms/step - loss: 1.5886 - accuracy: 0.6451 - val_loss: 2.7085 - val_accuracy: 0.3353\n",
      "Epoch 101/500\n",
      "412/412 [==============================] - 85s 207ms/step - loss: 1.5822 - accuracy: 0.6419 - val_loss: 2.6991 - val_accuracy: 0.3401\n",
      "Epoch 102/500\n",
      "412/412 [==============================] - 86s 210ms/step - loss: 1.5744 - accuracy: 0.6487 - val_loss: 2.7036 - val_accuracy: 0.3389\n",
      "Epoch 103/500\n",
      "412/412 [==============================] - 80s 193ms/step - loss: 1.5683 - accuracy: 0.6501 - val_loss: 2.7018 - val_accuracy: 0.3413\n",
      "Epoch 104/500\n",
      "412/412 [==============================] - 87s 211ms/step - loss: 1.5605 - accuracy: 0.6527 - val_loss: 2.6999 - val_accuracy: 0.3416\n",
      "Epoch 105/500\n",
      "412/412 [==============================] - 80s 195ms/step - loss: 1.5555 - accuracy: 0.6534 - val_loss: 2.7035 - val_accuracy: 0.3362\n",
      "Epoch 106/500\n",
      "412/412 [==============================] - 86s 210ms/step - loss: 1.5494 - accuracy: 0.6520 - val_loss: 2.6995 - val_accuracy: 0.3368\n"
     ]
    },
    {
     "data": {
      "image/png": "[encoded data removed]",
      "text/plain": [
       "<Figure size 1600x600 with 2 Axes>"
      ]
     },
     "metadata": {},
     "output_type": "display_data"
    }
   ],
   "source": [
    "model.compile(optimizer='adam', # TO DO : essayer avec RMSprop\n",
    "              loss='categorical_crossentropy',\n",
    "              metrics=['accuracy'])\n",
    "\n",
    "early_stopping_monitor = EarlyStopping(patience=10)\n",
    "\n",
    "history = model.fit(train_gen, validation_data=val_gen, epochs=500, callbacks = [early_stopping_monitor])\n",
    "\n",
    "plot_result_fitting(history)"
   ]
  },
  {
   "cell_type": "code",
   "execution_count": 12,
   "metadata": {
    "execution": {
     "iopub.execute_input": "2020-10-13T10:16:15.363083Z",
     "iopub.status.busy": "2020-10-13T10:16:15.361441Z",
     "iopub.status.idle": "2020-10-13T10:16:44.284773Z",
     "shell.execute_reply": "2020-10-13T10:16:44.284160Z"
    },
    "papermill": {
     "duration": 44.861238,
     "end_time": "2020-10-13T10:16:44.284901",
     "exception": false,
     "start_time": "2020-10-13T10:15:59.423663",
     "status": "completed"
    },
    "tags": []
   },
   "outputs": [
    {
     "name": "stdout",
     "output_type": "stream",
     "text": [
      "129/129 [==============================] - 28s 220ms/step - loss: 2.6492 - accuracy: 0.3467\n"
     ]
    },
    {
     "data": {
      "text/plain": [
       "[2.649165391921997, 0.34669581055641174]"
      ]
     },
     "execution_count": 12,
     "metadata": {},
     "output_type": "execute_result"
    }
   ],
   "source": [
    "model.evaluate(test_gen)"
   ]
  }
 ],
 "metadata": {
  "kernelspec": {
   "display_name": "Python 3",
   "language": "python",
   "name": "python3"
  },
  "language_info": {
   "codemirror_mode": {
    "name": "ipython",
    "version": 3
   },
   "file_extension": ".py",
   "mimetype": "text/x-python",
   "name": "python",
   "nbconvert_exporter": "python",
   "pygments_lexer": "ipython3",
   "version": "3.7.6"
  },
  "papermill": {
   "duration": 9007.485521,
   "end_time": "2020-10-13T10:17:01.718027",
   "environment_variables": {},
   "exception": null,
   "input_path": "__notebook__.ipynb",
   "output_path": "__notebook__.ipynb",
   "parameters": {},
   "start_time": "2020-10-13T07:46:54.232506",
   "version": "2.1.0"
  }
 },
 "nbformat": 4,
 "nbformat_minor": 4
}
